{
 "cells": [
  {
   "cell_type": "code",
   "execution_count": 70,
   "metadata": {},
   "outputs": [],
   "source": [
    "# -*- coding: utf-8 -*-\n",
    "\"\"\"\n",
    "Created on Wed May 27 11:19:07 2020\n",
    "\n",
    "@author: Max J. de Bock\n",
    "\"\"\"\n",
    "\n",
    "import pandas as pd\n",
    "import numpy as np\n",
    "import matplotlib.pyplot as plt\n",
    "import math\n",
    "from scipy.interpolate import make_interp_spline, BSpline\n",
    "import numpy.polynomial.polynomial as poly\n",
    "import statistics as stat\n",
    "from scipy.signal import find_peaks\n",
    "from scipy.stats import norm, jarque_bera\n",
    "from scipy.fft import fft, ifft\n",
    "from sympy.integrals.transforms import laplace_transform\n",
    "from scipy.fftpack import fftshift\n",
    "import scipy as sc"
   ]
  },
  {
   "cell_type": "code",
   "execution_count": 7,
   "metadata": {},
   "outputs": [],
   "source": [
    "df = pd.DataFrame({'Series': [np.nan], 'Epsilon': [np.nan], 'Sd': [np.nan]}).dropna()\n",
    "def LoadData():\n",
    "    SP = pd.read_csv('^GSPC.csv')\n",
    "    return SP"
   ]
  },
  {
   "cell_type": "markdown",
   "metadata": {},
   "source": [
    "# White noise "
   ]
  },
  {
   "cell_type": "code",
   "execution_count": 8,
   "metadata": {},
   "outputs": [],
   "source": [
    "def WhiteNoise(df,mean,sd):\n",
    "    n = 100\n",
    "    for i in range(n):\n",
    "        Xt = np.random.normal(mean,sd)\n",
    "        df = df.append({'Series': Xt}, ignore_index=True)\n",
    "    plt.scatter(np.linspace(1,n,n),df['Series'])\n",
    "    return"
   ]
  },
  {
   "cell_type": "markdown",
   "metadata": {},
   "source": [
    "# Qth-Order Moving Average:"
   ]
  },
  {
   "cell_type": "code",
   "execution_count": 9,
   "metadata": {},
   "outputs": [],
   "source": [
    "def QthMovAve(df,mean,sd,order):\n",
    "    weights = np.linspace(1,order,order)\n",
    "    weights = weights/np.sum(weights)\n",
    "    n = 1000\n",
    "    for i in range(n):\n",
    "        epsilon = np.random.normal(0,sd)\n",
    "        Xt = mean\n",
    "        if i != 0:\n",
    "            for j in range(np.minimum(i,order-1)):    \n",
    "                 Xt += weights[order-j-1]*df['Epsilon'].iloc[i-j-1]\n",
    "        df = df.append({'Series': Xt, 'Epsilon': epsilon}, ignore_index=True)\n",
    "    print(df)\n",
    "    plt.scatter(np.linspace(1,n,n),df['Series'])\n",
    "    return"
   ]
  },
  {
   "cell_type": "code",
   "execution_count": 10,
   "metadata": {},
   "outputs": [],
   "source": [
    "def SquaredErrorforCycleLength(A,length):\n",
    "    A = np.array(A)\n",
    "    var_list = np.zeros(length)\n",
    "    n = len(A)\n",
    "    for i in range(length):\n",
    "        k = 0\n",
    "        point_list = []\n",
    "        while k*length <= n-1:\n",
    "            point_list.append(A[k*length])\n",
    "            k += 1\n",
    "        var_list[i] = stat.variance(point_list)\n",
    "    return stat.mean(var_list)"
   ]
  },
  {
   "cell_type": "markdown",
   "metadata": {},
   "source": [
    "Thing that tries to find period of periodic function:"
   ]
  },
  {
   "cell_type": "code",
   "execution_count": 11,
   "metadata": {},
   "outputs": [],
   "source": [
    "def CycleLength(A):\n",
    "    A = np.array(A)\n",
    "    SquaredErrors = np.zeros(int(len(A)*2/3))\n",
    "    for length in range(1,int(len(A)*2/3)):\n",
    "        SquaredErrors[length] = SquaredErrorforCycleLength(A, length)\n",
    "    return SquaredErrors"
   ]
  },
  {
   "cell_type": "markdown",
   "metadata": {},
   "source": [
    "# Qth-Order Auto-regressive:"
   ]
  },
  {
   "cell_type": "code",
   "execution_count": 12,
   "metadata": {},
   "outputs": [],
   "source": [
    "def QthAR(df,sd,order):\n",
    "    weights = np.linspace(1,order,order)\n",
    "    weights = weights/np.sum(weights)\n",
    "    n = 100\n",
    "    for i in range(n):\n",
    "        epsilon = np.random.normal(0,sd)\n",
    "        Xt = epsilon\n",
    "        if i != 0:\n",
    "            for j in range(np.minimum(i,order)):\n",
    "                Xt += weights[order-j-1]*df['Series'].iloc[i-j-1]\n",
    "        df = df.append({'Series': Xt}, ignore_index=True)\n",
    "    plt.scatter(np.linspace(1,n,n),df['Series'])\n",
    "    return"
   ]
  },
  {
   "cell_type": "markdown",
   "metadata": {},
   "source": [
    "# Qth-order Auto-regressive conditional heteroskedasticity (ARCH):"
   ]
  },
  {
   "cell_type": "code",
   "execution_count": 73,
   "metadata": {},
   "outputs": [],
   "source": [
    "def QArch(df,a,order,n):\n",
    "    #Choosing the weights of the model (assuming weakly-stationary covariance)\n",
    "    weights = np.linspace(1,order,order)\n",
    "    weights = (200)**(weights/order)\n",
    "    weights = weights/np.sum(weights)\n",
    "    for i in range(n):\n",
    "        #This is that first term constant\n",
    "        sd = a\n",
    "        for j in range(np.minimum(i,order+1)):\n",
    "            #Summing the products of the weights and squares of previous datapoints\n",
    "            sd += weights[order-j-1]*df['Series'].iloc[i-j-1]*df['Series'].iloc[i-j-1]\n",
    "        #Generating next datapoint\n",
    "        Xt = np.random.normal(0,sd)\n",
    "        df = df.append({'Series': Xt, 'Sd': sd}, ignore_index=True)\n",
    "    #Just formatting\n",
    "    fig, (ax1, ax2) = plt.subplots(2, 1)\n",
    "    fig.suptitle('ARCH(%d)' % order)\n",
    "    lin = np.linspace(1,n,n)\n",
    "    ax1.bar(lin,df['Series'])\n",
    "    ax2.bar(lin,df['Sd'])\n",
    "    #Getting an approximating poly through it uses Gaussian quadrature,\n",
    "    #so it is going to be exact up to n/2. This is why I picked n/10.\n",
    "    #This is really just a randomly chosen number, but line looks 'eye-ball' representative for smoothness = 10 if n = 1000.\n",
    "    #EDIT: The smoothness of the line will be will change the scale that the red line represents, meaning the period of \n",
    "    #the line will be very clearly altered by this!!!\n",
    "    smoothness = 10\n",
    "    degree = int(np.ceil(n/smoothness))\n",
    "    xnew = np.linspace(1,n, n*10) \n",
    "    coefs = poly.polyfit(lin, df['Sd'], degree)\n",
    "    ffit = poly.polyval(xnew, coefs)\n",
    "    plt.plot(xnew, ffit, 'r')\n",
    "    # #More formatting\n",
    "    low = min(df['Sd'])\n",
    "    high = max(df['Sd'])\n",
    "    plt.ylim([low,high])\n",
    "    ax3 = ax2.twinx()\n",
    "    cycle_length = CycleLength(ffit[1::10])\n",
    "    \n",
    "    l = len(cycle_length)\n",
    "    ax3.plot(np.linspace(1,l,l),cycle_length)\n",
    "    slicing = 50\n",
    "    ax3.plot(np.linspace(1+int(slicing/10),n-int(slicing/10),n*10-2*slicing),abs(fft(ffit[slicing:len(ffit)-slicing])))\n",
    "    plt.ylim([0,0.2])\n",
    "    fig.tight_layout()\n",
    "    plt.show()\n",
    "    \n",
    "    \n",
    "    return find_peaks(cycle_length, \\\n",
    "                      #threshold = (max(cycle_length)-min(cycle_length))/40),\\\n",
    "                      width = 10),\\\n",
    "           #ChangePlot(df['Series'])"
   ]
  },
  {
   "cell_type": "code",
   "execution_count": 74,
   "metadata": {},
   "outputs": [
    {
     "name": "stderr",
     "output_type": "stream",
     "text": [
      "C:\\Users\\Max J. de Bock\\Anaconda3\\lib\\site-packages\\numpy\\polynomial\\polyutils.py:706: RuntimeWarning: overflow encountered in square\n",
      "  scl = np.sqrt(np.square(lhs).sum(1))\n",
      "C:\\Users\\Max J. de Bock\\Anaconda3\\lib\\site-packages\\numpy\\core\\_methods.py:38: RuntimeWarning: overflow encountered in reduce\n",
      "  return umr_sum(a, axis, dtype, out, keepdims, initial, where)\n",
      "C:\\Users\\Max J. de Bock\\Anaconda3\\lib\\site-packages\\numpy\\polynomial\\polynomial.py:1336: RankWarning: The fit may be poorly conditioned\n",
      "  return pu._fit(polyvander, x, y, deg, rcond, full, w)\n"
     ]
    },
    {
     "data": {
      "image/png": "[encoded data removed]",
      "text/plain": [
       "<Figure size 432x288 with 3 Axes>"
      ]
     },
     "metadata": {
      "needs_background": "light"
     },
     "output_type": "display_data"
    },
    {
     "data": {
      "text/plain": [
       "((array([ 18, 198, 277, 388, 560, 650], dtype=int64),\n",
       "  {'prominences': array([4.04919694e-06, 1.09990771e-04, 4.56655635e-05, 1.14081923e-04,\n",
       "          5.75084813e-05, 2.25257478e-06]),\n",
       "   'left_bases': array([  0,   0, 250, 334, 500, 627], dtype=int64),\n",
       "   'right_bases': array([ 20, 316, 316, 477, 627, 665], dtype=int64),\n",
       "   'widths': array([18.49691911, 27.61478296, 18.12806073, 55.31040648, 56.28856851,\n",
       "          19.76096452]),\n",
       "   'width_heights': array([4.16879285e-05, 5.61731590e-05, 3.05400603e-05, 6.73535567e-05,\n",
       "          4.71439315e-05, 2.08627697e-06]),\n",
       "   'left_ips': array([  0.98356265, 185.727421  , 269.14340458, 371.68157073,\n",
       "          530.11453092, 639.85333675]),\n",
       "   'right_ips': array([ 19.48048176, 213.34220396, 287.27146531, 426.99197722,\n",
       "          586.40309942, 659.61430128])}),)"
      ]
     },
     "execution_count": 74,
     "metadata": {},
     "output_type": "execute_result"
    }
   ],
   "source": [
    "#To get decent compromise between data and run-time I went for QArch(df,0.1,20,1000)\n",
    "QArch(df,0.1,20,1000)"
   ]
  },
  {
   "cell_type": "markdown",
   "metadata": {},
   "source": [
    "# Daily-changes hist, fitting Gauss distr and JB-test:"
   ]
  },
  {
   "cell_type": "code",
   "execution_count": 15,
   "metadata": {},
   "outputs": [],
   "source": [
    "def ChangePlot(A):\n",
    "    if len(A.shape) == 2:\n",
    "        Change = A['Close']-A['Open']\n",
    "    else:\n",
    "        Change = A\n",
    "    plt.hist(Change, bins=100, density = True)\n",
    "    xmin, xmax = plt.xlim()\n",
    "    x = np.linspace(xmin, xmax, 100)\n",
    "    mu, std = norm.fit(Change)\n",
    "    p = norm.pdf(x, mu, std)\n",
    "    plt.plot(x, p, 'k', linewidth=2)\n",
    "    plt.show()\n",
    "    \n",
    "    fig, (ax1, ax2) = plt.subplots(2, 1)\n",
    "    l = len(Change)\n",
    "    lin = np.linspace(1,l,l)\n",
    "    SqrChange = Change*Change\n",
    "    \n",
    "    ax1.bar(lin,Change)\n",
    "    ax2.bar(lin,SqrChange)\n",
    "\n",
    "    smoothness = 30\n",
    "    degree = int(np.ceil(l/smoothness))\n",
    "    xnew = np.linspace(1,l, l*smoothness) \n",
    "    coefs = poly.polyfit(lin, SqrChange, degree)\n",
    "    ffit = poly.polyval(xnew, coefs)\n",
    "    plt.plot(xnew, ffit, 'r')\n",
    "    # #More formatting\n",
    "    low = min(SqrChange)\n",
    "    high = max(SqrChange)\n",
    "    plt.ylim([low,high])\n",
    "    \n",
    "    plt.bar(lin,Change)\n",
    "    \n",
    "    plt.bar(lin,SqrChange)\n",
    "    return jarque_bera(Change)\n",
    "    "
   ]
  },
  {
   "cell_type": "markdown",
   "metadata": {},
   "source": [
    "Here S&P 500 data is used:"
   ]
  },
  {
   "cell_type": "code",
   "execution_count": 16,
   "metadata": {},
   "outputs": [
    {
     "data": {
      "image/png": "[encoded data removed]",
      "text/plain": [
       "<Figure size 432x288 with 1 Axes>"
      ]
     },
     "metadata": {
      "needs_background": "light"
     },
     "output_type": "display_data"
    },
    {
     "name": "stderr",
     "output_type": "stream",
     "text": [
      "C:\\Users\\Max J. de Bock\\Anaconda3\\lib\\site-packages\\numpy\\polynomial\\polyutils.py:706: RuntimeWarning: overflow encountered in square\n",
      "  scl = np.sqrt(np.square(lhs).sum(1))\n",
      "C:\\Users\\Max J. de Bock\\Anaconda3\\lib\\site-packages\\numpy\\core\\_methods.py:38: RuntimeWarning: overflow encountered in reduce\n",
      "  return umr_sum(a, axis, dtype, out, keepdims, initial, where)\n",
      "C:\\Users\\Max J. de Bock\\Anaconda3\\lib\\site-packages\\numpy\\polynomial\\polynomial.py:1336: RankWarning: The fit may be poorly conditioned\n",
      "  return pu._fit(polyvander, x, y, deg, rcond, full, w)\n"
     ]
    },
    {
     "data": {
      "text/plain": [
       "(1640.4551784222106, 0.0)"
      ]
     },
     "execution_count": 16,
     "metadata": {},
     "output_type": "execute_result"
    },
    {
     "data": {
      "image/png": "[encoded data removed]",
      "text/plain": [
       "<Figure size 432x288 with 2 Axes>"
      ]
     },
     "metadata": {
      "needs_background": "light"
     },
     "output_type": "display_data"
    }
   ],
   "source": [
    "sp = LoadData()\n",
    "ChangePlot(sp)"
   ]
  },
  {
   "cell_type": "code",
   "execution_count": null,
   "metadata": {},
   "outputs": [],
   "source": []
  },
  {
   "cell_type": "code",
   "execution_count": null,
   "metadata": {},
   "outputs": [],
   "source": []
  }
 ],
 "metadata": {
  "kernelspec": {
   "display_name": "Python 3",
   "language": "python",
   "name": "python3"
  },
  "language_info": {
   "codemirror_mode": {
    "name": "ipython",
    "version": 3
   },
   "file_extension": ".py",
   "mimetype": "text/x-python",
   "name": "python",
   "nbconvert_exporter": "python",
   "pygments_lexer": "ipython3",
   "version": "3.7.4"
  }
 },
 "nbformat": 4,
 "nbformat_minor": 4
}
