{
 "cells": [
  {
   "cell_type": "code",
   "execution_count": 227,
   "metadata": {},
   "outputs": [],
   "source": [
    "# -*- coding: utf-8 -*-\n",
    "\"\"\"\n",
    "Created on Wed May 27 11:19:07 2020\n",
    "\n",
    "@author: Max J. de Bock\n",
    "\"\"\"\n",
    "\n",
    "import pandas as pd\n",
    "import numpy as np\n",
    "import matplotlib.pyplot as plt\n",
    "import math as m\n",
    "from scipy.interpolate import make_interp_spline, BSpline\n",
    "import numpy.polynomial.polynomial as poly\n",
    "import statistics as stat\n",
    "from scipy.signal import find_peaks\n",
    "from scipy.stats import norm, jarque_bera\n",
    "from scipy.fft import fft, ifft\n",
    "from sympy.integrals.transforms import laplace_transform\n",
    "from scipy.fftpack import fftshift\n",
    "import scipy as sc\n",
    "from datetime import datetime\n",
    "from statsmodels.graphics.tsaplots import plot_acf\n",
    "from statsmodels.graphics.gofplots import qqplot"
   ]
  },
  {
   "cell_type": "markdown",
   "metadata": {},
   "source": [
    "# Download data sets and create empty data frames (just run it)"
   ]
  },
  {
   "cell_type": "code",
   "execution_count": 228,
   "metadata": {},
   "outputs": [
    {
     "name": "stderr",
     "output_type": "stream",
     "text": [
      "C:\\Users\\Max J. de Bock\\Anaconda3\\lib\\site-packages\\IPython\\core\\interactiveshell.py:3254: DtypeWarning: Columns (1,2,3,4,5,6,7,8,9,10,11,12,13,14,15,16,17,18,19,20,21,22,23,24,25,26,27,28,29,30,31,32,33,34,35,36,37,38,39,40,41,42,43,44,45,46,47,48,49,50,51,52,53,54,55,56,57,58,59,60,61,62,63,64,65,66,67,68,69,70,71,72,73,74,75,76,77,78,79,80,81,82,83,84,85,86,87,88,89,90,91,92,93,94,95,96,97,98,99,100,101,102,103,104,105,106,107,108,109,110,111,112,113,114,115,116,117,118,119,120,121,122,123,124,125,126,127,128,129,130,131,132,133,134,135,136,137,138,139,140,141,142,143,144,145,146,147,148,149,150,151,152,153,154,155,156,157,158,159,160,161,162,163,164,165,166,167,168,169,170,171,172,173,174,175,176,177,178,179,180,181,182,183,184,185,186,187,188,189,190,191,192,193,194,195,196,197,198,199,200,201,202,203,204,205,206,207,208,209,210,211,212,213,214,215,216,217,218,219,220,221,222,223,224,225,226,227,228,229,230,231,232,233,234,235,236,237,238,239,240,241,242,243,244,245,246,247,248,249,250,251,252,253,254,255,256,257,258,259,260,261,262,263,264,265,266,267,268,269,270,271,272,273,274,275,276,277,278,279,280,281,282,283,284,285,286,287,288,289,290,291,292,293,294,295,296,297,298,299,300,301,302,303,304,305,306,307,308,309,310,311,312,313,314,315,316,317,318,319,320,321,322,323,324,325,326,327,328,329,330,331,332,333,334,335,336,337,338,339,340,341,342,343,344,345,346,347,348,349,350,351,352,353,354,355,356,357,358,359,360,361,362,363,364,365,366,367,368,369,370,371,372,373,374,375,376,377,378,379,380,381,382,383,384,385,386,387,388,389,390,391,392,393,394,395,396,397,398,399,400,401,402,403,404,405,406,407,408,409,410,411,412,413,414,415,416,417,418,419,420,421,422,423,424,425,426,427,428,429,430,431,432,433,434,435,436,437,438,439,440,441,442,443,444,445,446,447,448,449,450,451,452,453,454,455,456,457,458,459,460,461,462,463,464,465,466,467,468,469,470,471,472,473,474,475,476,477,478,479,480,481,482,483,484,485,486,487,488,489,490,491,492,493,494,495,496,497,498,499,500,501,502,503,504,505,506,507,508,509,510,511,512,513,514,515,516,517,518,519,520,521,522,523,524,525,526,527,528,529,530,531,532,533,534,535,536,537,538,539,540,541,542,543,544,545,546,547,548,549,550,551,552,553,554,555,556,557,558,559,560,561,562,563,564,565,566,567,568,569,570,571,572,573,574,575,576,577,578,579,580,581,582,583,584,585,586,587,588,589,590,591,592,593,594,595,596,597,598,599,600,601,602,603,604,605,606,607,608,609,610,611,612,613,614,615,616,617,618,619,620,621,622,623,624,625,626,627,628,629,630,631,632,633,634,635,636,637,638,639,640,641,642,643,644,645,646,647,648,649,650,651,652,653,654,655,656,657,658,659,660,661,662,663,664,665,666,667,668,669,670,671,672,673,674,675,676,677,678,679,680,681,682,683,684,685,686,687,688,689,690,691,692,693,694,695,696,697,698,699,700,701,702,703,704,705,706,707,708,709,710,711,712,713,714,715,716,717,718,719,720,721,722,723,724,725,726,727,728,729,730,731,732,733,734,735,736,737,738,739,740,741,742,743,744,745,746,747,748,749,750,751,752,753,754,755,756,757,758,759,760,761,762,763,764,765,766,767,768,769,770,771,772,773,774,775,776,777,778,779,780,781,782,783,784,785,786,787,788,789,790,791,792,793,794,795,796,797,798,799,800,801,802,803,804,805,806,807,808,809,810,811,812,813,814,815,816,817,818,819,820,821,822,823,824,825,826,827,828,829,830,831,832,833,834,835,836,837,838,839,840,841,842,843,844,845,846,847,848,849,850,851,852,853,854,855,856,857,858,859,860,861,862,863,864,865,866,867,868,869,870,871,872,873,874,875,876,877,878,879,880,881,882,883,884,885,886,887,888,889,890,891,892,893,894,895,896,897,898,899,900,901,902,903,904,905,906,907,908,909,910,911,912,913,914,915,916,917,918,919,920,921,922,923,924,925,926,927,928,929,930,931,932,933,934,935,936,937,938,939,940,941,942,943,944,945,946,947,948,949,950,951,952,953,954,955,956,957,958,959,960,961,962,963,964,965,966,967,968,969,970,971,972,973,974,975,976,977,978,979,980,981,982,983,984,985,986,987,988,989,990,991,992,993,994,995,996,997,998,999,1000,1001,1002,1003,1004,1005,1006,1007,1008,1009,1010,1011,1012,1013,1014,1015,1016,1017,1018,1019,1020,1021,1022,1023,1024,1025,1026,1027,1028,1029,1030,1031,1032,1033,1034,1035,1036,1037,1038,1039,1040,1041,1042,1043,1044,1045,1046,1047,1048,1049,1050,1051,1052,1053,1054,1055,1056,1057,1058,1059,1060,1061,1062,1063,1064,1065,1066,1067,1068,1069,1070,1071,1072,1073,1074,1075,1076,1077,1078,1079,1080,1081,1082,1083,1084,1085,1086,1087,1088,1089,1090,1091,1092,1093,1094,1095,1096,1097,1098,1099,1100,1101,1102,1103,1104,1105,1106,1107,1108,1109,1110,1111,1112,1113,1114,1115,1116,1117,1118,1119,1120,1121,1122,1123,1124,1125,1126,1127,1128,1129,1130,1131,1132,1133,1134,1135,1136,1137,1138,1139,1140,1141,1142,1143,1144,1145,1146,1147,1148,1149,1150,1151,1152,1153,1154,1155,1156,1157,1158,1159,1160,1161,1162,1163,1164,1165,1166,1167,1168,1169,1170,1171,1172,1173,1174,1175,1176,1177,1178,1179,1180,1181,1182,1183,1184,1185,1186,1187,1188,1189,1190,1191,1192,1193,1194,1195,1196,1197,1198,1199,1200,1201,1202,1203,1204,1205,1206,1207,1208,1209,1210,1211,1212,1213,1214,1215,1216,1217,1218,1219,1220,1221,1222,1223,1224,1225,1226,1227,1228,1229,1230,1231,1232,1233,1234,1235,1236,1237,1238,1239,1240,1241,1242,1243,1244,1245,1246,1247,1248,1249,1250,1251,1252,1253,1254,1255,1256,1257,1258,1259,1260,1261,1262,1263,1264,1265,1266,1267,1268,1269,1270,1271,1272,1273,1274,1275,1276,1277,1278,1279,1280,1281,1282,1283,1284,1285,1286,1287,1288,1289,1290,1291,1292,1293,1294,1295,1296,1297,1298,1299,1300,1301,1302,1303,1304,1305,1306,1307,1308,1309,1310,1311,1312,1313,1314,1315,1316,1317,1318,1319,1320,1321,1322,1323,1324,1325,1326,1327,1328,1329,1330,1331,1332,1333,1334,1335,1336,1337,1338,1339,1340,1341,1342,1343,1344,1345,1346,1347,1348,1349,1350,1351,1352,1353,1354,1355,1356,1357,1358,1359,1360,1361,1362,1363,1364,1365,1366,1367,1368,1369,1370,1371,1372,1373,1374,1375,1376,1377,1378,1379,1380,1381,1382,1383,1384,1385,1386,1387,1388,1389,1390,1391,1392,1393,1394,1395,1396,1397,1398,1399,1400,1401,1402,1403,1404,1405,1406,1407,1408,1409,1410,1411,1412,1413,1414,1415,1416,1417,1418,1419,1420,1421,1422,1423,1424,1425,1426,1427,1428,1429,1430,1431,1432,1433,1434,1435,1436,1437,1438,1439,1440,1441,1442,1443,1444,1445,1446,1447,1448,1449,1450,1451,1452,1453,1454,1455,1456,1457,1458,1459,1460,1461,1462,1463,1464,1465,1466,1467,1468,1469,1470,1471,1472,1473,1474,1475,1476,1477,1478,1479,1480,1481,1482,1483,1484,1485,1486,1487,1488,1489,1490,1491,1492,1493,1494,1495,1496,1497,1498,1499,1500,1501,1502,1503,1504,1505,1506,1507,1508,1509,1510,1511,1512,1513,1514,1515,1516,1517,1518,1519,1520,1521,1522,1523,1524,1525,1526,1527,1528,1529,1530,1531,1532,1533,1534,1535,1536,1537,1538,1539,1540,1541,1542,1543,1544,1545,1546,1547,1548,1549,1550,1551,1552,1553,1554,1555,1556,1557,1558,1559,1560,1561,1562,1563,1564,1565,1566,1567,1568,1569,1570,1571,1572,1573,1574,1575,1576,1577,1578,1579,1580,1581,1582,1583,1584,1585,1586,1587,1588,1589,1590,1591,1592,1593,1594,1595,1596,1597,1598,1599,1600,1601,1602,1603,1604,1605,1606,1607,1608,1609,1610,1611,1612,1613,1614,1615,1616,1617,1618,1619,1620,1621,1622,1623,1624,1625,1626,1627,1628,1629,1630,1631,1632,1633,1634,1635,1636,1637,1638,1639,1640,1641,1642,1643,1644,1645,1646,1647,1648,1649,1650,1651,1652,1653,1654,1655,1656,1657,1658,1659,1660,1661,1662,1663,1664,1665,1666,1667,1668,1669,1670,1671,1672,1673,1674,1675,1676,1677,1678,1679,1680,1681,1682,1683,1684,1685,1686,1687,1688,1689,1690,1691,1692,1693,1694,1695,1696,1697,1698,1699,1700,1701,1702,1703,1704,1705,1706,1707,1708,1709,1710,1711,1712,1713,1714,1715,1716,1717,1718,1719,1720,1721,1722,1723,1724,1725,1726,1727,1728,1729,1730,1731,1732,1733,1734,1735,1736,1737,1738,1739,1740,1741,1742,1743,1744,1745,1746,1747,1748,1749,1750,1751,1752,1753,1754,1755,1756,1757,1758,1759,1760,1761,1762,1763,1764,1765,1766,1767,1768,1769,1770,1771,1772,1773,1774,1775,1776,1777,1778,1779,1780,1781,1782,1783,1784,1785,1786,1787,1788,1789,1790,1791,1792,1793,1794,1795,1796,1797,1798,1799,1800,1801,1802,1803,1804,1805,1806,1807,1808,1809,1810,1811,1812,1813,1814,1815,1816,1817,1818,1819,1820,1821,1822,1823,1824,1825,1826,1827,1828,1829,1830,1831,1832,1833,1834,1835,1836,1837,1838,1839,1840,1841,1842,1843,1844,1845,1846,1847,1848,1849,1850,1851,1852,1853,1854,1855,1856,1857,1858,1859,1860,1861,1862,1863,1864,1865,1866,1867,1868,1869,1870,1871,1872,1873,1874,1875,1876,1877,1878,1879,1880,1881,1882,1883,1884,1885,1886,1887,1888,1889,1890,1891,1892,1893,1894,1895,1896,1897,1898,1899,1900,1901,1902,1903,1904,1905,1906,1907,1908,1909,1910,1911,1912,1913,1914,1915,1916,1917,1918,1919,1920,1921,1922,1923,1924,1925,1926,1927,1928,1929,1930,1931,1932,1933,1934,1935,1936,1937,1938,1939,1940,1941,1942,1943,1944,1945,1946,1947,1948,1949,1950,1951,1952,1953,1954,1955,1956,1957,1958,1959,1960,1961,1962,1963,1964,1965,1966,1967,1968,1969,1970,1971,1972,1973,1974,1975,1976,1977,1978,1979,1980,1981,1982,1983,1984,1985,1986,1987,1988,1989,1990,1991,1992,1993,1994,1995,1996,1997,1998,1999,2000,2001,2002,2003,2004,2005,2006,2007,2008,2009,2010,2011,2012,2013,2014,2015,2016,2017,2018,2019,2020,2021,2022,2023,2024,2025,2026,2027,2028,2029,2030,2031,2032,2033,2034,2035,2036,2037,2038,2039,2040,2041,2042,2043,2044,2045,2046,2047,2048,2049,2050,2051,2052,2053,2054,2055,2056,2057,2058,2059,2060,2061,2062,2063,2064,2065,2066,2067,2068,2069,2070,2071,2072,2073,2074,2075,2076,2077,2078,2079,2080,2081,2082,2083,2084,2085,2086,2087,2088,2089,2090,2091,2092,2093,2094,2095,2096,2097,2098,2099,2100,2101,2102,2103,2104,2105,2106,2107,2108,2109,2110,2111,2112,2113,2114,2115,2116,2117,2118,2119,2120,2121,2122,2123,2124,2125,2126,2127,2128,2129,2130,2131,2132,2133,2134,2135,2136,2137,2138,2139,2140,2141,2142,2143,2144,2145,2146,2147,2148,2149,2150,2151,2152,2153,2154,2155,2156,2157,2158,2159,2160,2161,2162,2163,2164,2165,2166,2167,2168,2169,2170,2171,2172,2173,2174,2175,2176,2177,2178,2179,2180,2181,2182,2183,2184,2185,2186,2187,2188,2189,2190,2191,2192,2193,2194,2195,2196,2197,2198,2199,2200,2201,2202,2203,2204,2205,2206,2207,2208,2209,2210,2211,2212,2213,2214,2215,2216,2217,2218,2219,2220,2221,2222,2223,2224,2225,2226,2227,2228,2229,2230,2231,2232,2233,2234,2235,2236,2237,2238,2239,2240,2241,2242,2243,2244,2245,2246,2247,2248,2249,2250,2251,2252,2253,2254,2255,2256,2257,2258,2259,2260,2261,2262,2263,2264,2265,2266,2267,2268,2269,2270,2271,2272,2273,2274,2275,2276,2277,2278,2279,2280,2281,2282,2283,2284,2285,2286,2287,2288,2289,2290,2291,2292,2293,2294,2295,2296,2297,2298,2299,2300,2301,2302,2303,2304,2305,2306,2307,2308,2309,2310,2311,2312,2313,2314,2315,2316,2317,2318,2319,2320,2321,2322,2323,2324,2325,2326,2327,2328,2329,2330,2331,2332,2333,2334,2335,2336,2337,2338,2339,2340,2341,2342,2343,2344,2345,2346,2347,2348,2349,2350,2351,2352,2353,2354,2355,2356,2357,2358,2359,2360,2361,2362,2363,2364,2365,2366,2367,2368,2369,2370,2371,2372,2373,2374,2375,2376,2377,2378,2379,2380,2381,2382,2383,2384,2385,2386,2387,2388,2389,2390,2391,2392,2393,2394,2395,2396,2397,2398,2399,2400,2401,2402,2403,2404,2405,2406,2407,2408,2409,2410,2411,2412,2413,2414,2415,2416,2417,2418,2419,2420,2421,2422,2423,2424,2425,2426,2427,2428,2429,2430,2431,2432,2433,2434,2435,2436,2437,2438,2439,2440,2441,2442,2443,2444,2445,2446,2447,2448,2449,2450,2451,2452,2453,2454,2455,2456,2457,2458,2459,2460,2461,2462,2463,2464,2465,2466,2467,2468,2469,2470,2471,2472,2473,2474,2475,2476,2477,2478,2479,2480,2481,2482,2483,2484,2485,2486,2487,2488,2489,2490,2491,2492,2493,2494,2495,2496,2497,2498,2499,2500,2501,2502,2503,2504,2505,2506,2507,2508,2509,2510) have mixed types.Specify dtype option on import or set low_memory=False.\n",
      "  if (await self.run_code(code, result,  async_=asy)):\n"
     ]
    },
    {
     "data": {
      "text/html": [
       "<div>\n",
       "<style scoped>\n",
       "    .dataframe tbody tr th:only-of-type {\n",
       "        vertical-align: middle;\n",
       "    }\n",
       "\n",
       "    .dataframe tbody tr th {\n",
       "        vertical-align: top;\n",
       "    }\n",
       "\n",
       "    .dataframe thead th {\n",
       "        text-align: right;\n",
       "    }\n",
       "</style>\n",
       "<table border=\"1\" class=\"dataframe\">\n",
       "  <thead>\n",
       "    <tr style=\"text-align: right;\">\n",
       "      <th></th>\n",
       "      <th>Unnamed: 0</th>\n",
       "      <th>A</th>\n",
       "      <th>A.1</th>\n",
       "      <th>A.2</th>\n",
       "      <th>A.3</th>\n",
       "      <th>A.4</th>\n",
       "      <th>AAL</th>\n",
       "      <th>AAL.1</th>\n",
       "      <th>AAL.2</th>\n",
       "      <th>AAL.3</th>\n",
       "      <th>...</th>\n",
       "      <th>ZION</th>\n",
       "      <th>ZION.1</th>\n",
       "      <th>ZION.2</th>\n",
       "      <th>ZION.3</th>\n",
       "      <th>ZION.4</th>\n",
       "      <th>ZTS</th>\n",
       "      <th>ZTS.1</th>\n",
       "      <th>ZTS.2</th>\n",
       "      <th>ZTS.3</th>\n",
       "      <th>ZTS.4</th>\n",
       "    </tr>\n",
       "  </thead>\n",
       "  <tbody>\n",
       "    <tr>\n",
       "      <th>0</th>\n",
       "      <td>NaN</td>\n",
       "      <td>open</td>\n",
       "      <td>high</td>\n",
       "      <td>low</td>\n",
       "      <td>close</td>\n",
       "      <td>volume</td>\n",
       "      <td>open</td>\n",
       "      <td>high</td>\n",
       "      <td>low</td>\n",
       "      <td>close</td>\n",
       "      <td>...</td>\n",
       "      <td>open</td>\n",
       "      <td>high</td>\n",
       "      <td>low</td>\n",
       "      <td>close</td>\n",
       "      <td>volume</td>\n",
       "      <td>open</td>\n",
       "      <td>high</td>\n",
       "      <td>low</td>\n",
       "      <td>close</td>\n",
       "      <td>volume</td>\n",
       "    </tr>\n",
       "    <tr>\n",
       "      <th>1</th>\n",
       "      <td>timestamp</td>\n",
       "      <td>NaN</td>\n",
       "      <td>NaN</td>\n",
       "      <td>NaN</td>\n",
       "      <td>NaN</td>\n",
       "      <td>NaN</td>\n",
       "      <td>NaN</td>\n",
       "      <td>NaN</td>\n",
       "      <td>NaN</td>\n",
       "      <td>NaN</td>\n",
       "      <td>...</td>\n",
       "      <td>NaN</td>\n",
       "      <td>NaN</td>\n",
       "      <td>NaN</td>\n",
       "      <td>NaN</td>\n",
       "      <td>NaN</td>\n",
       "      <td>NaN</td>\n",
       "      <td>NaN</td>\n",
       "      <td>NaN</td>\n",
       "      <td>NaN</td>\n",
       "      <td>NaN</td>\n",
       "    </tr>\n",
       "    <tr>\n",
       "      <th>2</th>\n",
       "      <td>2017-09-11 09:30:00</td>\n",
       "      <td>NaN</td>\n",
       "      <td>NaN</td>\n",
       "      <td>NaN</td>\n",
       "      <td>NaN</td>\n",
       "      <td>NaN</td>\n",
       "      <td>44.01</td>\n",
       "      <td>44.05</td>\n",
       "      <td>44.01</td>\n",
       "      <td>44.01</td>\n",
       "      <td>...</td>\n",
       "      <td>42.05</td>\n",
       "      <td>42.05</td>\n",
       "      <td>42.04</td>\n",
       "      <td>42.04</td>\n",
       "      <td>26933.0</td>\n",
       "      <td>NaN</td>\n",
       "      <td>NaN</td>\n",
       "      <td>NaN</td>\n",
       "      <td>NaN</td>\n",
       "      <td>NaN</td>\n",
       "    </tr>\n",
       "    <tr>\n",
       "      <th>3</th>\n",
       "      <td>2017-09-11 09:31:00</td>\n",
       "      <td>65.5</td>\n",
       "      <td>65.5</td>\n",
       "      <td>65.41</td>\n",
       "      <td>65.46</td>\n",
       "      <td>29852.0</td>\n",
       "      <td>44.01</td>\n",
       "      <td>44.25</td>\n",
       "      <td>44.0</td>\n",
       "      <td>44.25</td>\n",
       "      <td>...</td>\n",
       "      <td>42.06</td>\n",
       "      <td>42.54</td>\n",
       "      <td>42.01</td>\n",
       "      <td>42.24</td>\n",
       "      <td>39292.0</td>\n",
       "      <td>65.33</td>\n",
       "      <td>65.39</td>\n",
       "      <td>64.96</td>\n",
       "      <td>65.11</td>\n",
       "      <td>38144.0</td>\n",
       "    </tr>\n",
       "    <tr>\n",
       "      <th>4</th>\n",
       "      <td>2017-09-11 09:32:00</td>\n",
       "      <td>65.4604</td>\n",
       "      <td>65.66</td>\n",
       "      <td>65.4604</td>\n",
       "      <td>65.66</td>\n",
       "      <td>3435.0</td>\n",
       "      <td>44.25</td>\n",
       "      <td>44.32</td>\n",
       "      <td>44.22</td>\n",
       "      <td>44.27</td>\n",
       "      <td>...</td>\n",
       "      <td>42.12</td>\n",
       "      <td>42.48</td>\n",
       "      <td>42.09</td>\n",
       "      <td>42.48</td>\n",
       "      <td>9683.0</td>\n",
       "      <td>65.115</td>\n",
       "      <td>65.23</td>\n",
       "      <td>65.075</td>\n",
       "      <td>65.12</td>\n",
       "      <td>4390.0</td>\n",
       "    </tr>\n",
       "    <tr>\n",
       "      <th>5</th>\n",
       "      <td>2017-09-11 09:33:00</td>\n",
       "      <td>65.67</td>\n",
       "      <td>65.7</td>\n",
       "      <td>65.62</td>\n",
       "      <td>65.69</td>\n",
       "      <td>700.0</td>\n",
       "      <td>44.28</td>\n",
       "      <td>44.46</td>\n",
       "      <td>44.2504</td>\n",
       "      <td>44.34</td>\n",
       "      <td>...</td>\n",
       "      <td>42.49</td>\n",
       "      <td>42.49</td>\n",
       "      <td>42.18</td>\n",
       "      <td>42.2</td>\n",
       "      <td>7844.0</td>\n",
       "      <td>NaN</td>\n",
       "      <td>NaN</td>\n",
       "      <td>NaN</td>\n",
       "      <td>NaN</td>\n",
       "      <td>NaN</td>\n",
       "    </tr>\n",
       "    <tr>\n",
       "      <th>6</th>\n",
       "      <td>2017-09-11 09:34:00</td>\n",
       "      <td>65.69</td>\n",
       "      <td>65.88</td>\n",
       "      <td>65.68</td>\n",
       "      <td>65.88</td>\n",
       "      <td>2814.0</td>\n",
       "      <td>44.34</td>\n",
       "      <td>44.36</td>\n",
       "      <td>44.22</td>\n",
       "      <td>44.24</td>\n",
       "      <td>...</td>\n",
       "      <td>42.28</td>\n",
       "      <td>42.38</td>\n",
       "      <td>42.23</td>\n",
       "      <td>42.38</td>\n",
       "      <td>6472.0</td>\n",
       "      <td>65.12</td>\n",
       "      <td>65.18</td>\n",
       "      <td>64.97</td>\n",
       "      <td>64.97</td>\n",
       "      <td>5515.0</td>\n",
       "    </tr>\n",
       "    <tr>\n",
       "      <th>7</th>\n",
       "      <td>2017-09-11 09:35:00</td>\n",
       "      <td>65.81</td>\n",
       "      <td>65.9</td>\n",
       "      <td>65.77</td>\n",
       "      <td>65.83</td>\n",
       "      <td>1300.0</td>\n",
       "      <td>44.2429</td>\n",
       "      <td>44.26</td>\n",
       "      <td>44.1</td>\n",
       "      <td>44.17</td>\n",
       "      <td>...</td>\n",
       "      <td>42.42</td>\n",
       "      <td>42.47</td>\n",
       "      <td>42.42</td>\n",
       "      <td>42.47</td>\n",
       "      <td>1000.0</td>\n",
       "      <td>65.03</td>\n",
       "      <td>65.14</td>\n",
       "      <td>65.0</td>\n",
       "      <td>65.0</td>\n",
       "      <td>2100.0</td>\n",
       "    </tr>\n",
       "    <tr>\n",
       "      <th>8</th>\n",
       "      <td>2017-09-11 09:36:00</td>\n",
       "      <td>65.88</td>\n",
       "      <td>65.9</td>\n",
       "      <td>65.66</td>\n",
       "      <td>65.66</td>\n",
       "      <td>6986.0</td>\n",
       "      <td>44.1655</td>\n",
       "      <td>44.18</td>\n",
       "      <td>44.03</td>\n",
       "      <td>44.07</td>\n",
       "      <td>...</td>\n",
       "      <td>42.43</td>\n",
       "      <td>42.51</td>\n",
       "      <td>42.4</td>\n",
       "      <td>42.4</td>\n",
       "      <td>5835.0</td>\n",
       "      <td>65.065</td>\n",
       "      <td>65.31</td>\n",
       "      <td>65.065</td>\n",
       "      <td>65.145</td>\n",
       "      <td>5200.0</td>\n",
       "    </tr>\n",
       "    <tr>\n",
       "      <th>9</th>\n",
       "      <td>2017-09-11 09:37:00</td>\n",
       "      <td>65.73</td>\n",
       "      <td>65.77</td>\n",
       "      <td>65.65</td>\n",
       "      <td>65.76</td>\n",
       "      <td>2420.0</td>\n",
       "      <td>44.08</td>\n",
       "      <td>44.1301</td>\n",
       "      <td>44.06</td>\n",
       "      <td>44.065</td>\n",
       "      <td>...</td>\n",
       "      <td>42.35</td>\n",
       "      <td>42.38</td>\n",
       "      <td>42.28</td>\n",
       "      <td>42.31</td>\n",
       "      <td>32358.0</td>\n",
       "      <td>65.12</td>\n",
       "      <td>65.12</td>\n",
       "      <td>64.95</td>\n",
       "      <td>65.05</td>\n",
       "      <td>2502.0</td>\n",
       "    </tr>\n",
       "  </tbody>\n",
       "</table>\n",
       "<p>10 rows × 2511 columns</p>\n",
       "</div>"
      ],
      "text/plain": [
       "            Unnamed: 0        A    A.1      A.2    A.3      A.4      AAL  \\\n",
       "0                  NaN     open   high      low  close   volume     open   \n",
       "1            timestamp      NaN    NaN      NaN    NaN      NaN      NaN   \n",
       "2  2017-09-11 09:30:00      NaN    NaN      NaN    NaN      NaN    44.01   \n",
       "3  2017-09-11 09:31:00     65.5   65.5    65.41  65.46  29852.0    44.01   \n",
       "4  2017-09-11 09:32:00  65.4604  65.66  65.4604  65.66   3435.0    44.25   \n",
       "5  2017-09-11 09:33:00    65.67   65.7    65.62  65.69    700.0    44.28   \n",
       "6  2017-09-11 09:34:00    65.69  65.88    65.68  65.88   2814.0    44.34   \n",
       "7  2017-09-11 09:35:00    65.81   65.9    65.77  65.83   1300.0  44.2429   \n",
       "8  2017-09-11 09:36:00    65.88   65.9    65.66  65.66   6986.0  44.1655   \n",
       "9  2017-09-11 09:37:00    65.73  65.77    65.65  65.76   2420.0    44.08   \n",
       "\n",
       "     AAL.1    AAL.2   AAL.3  ...   ZION ZION.1 ZION.2 ZION.3   ZION.4     ZTS  \\\n",
       "0     high      low   close  ...   open   high    low  close   volume    open   \n",
       "1      NaN      NaN     NaN  ...    NaN    NaN    NaN    NaN      NaN     NaN   \n",
       "2    44.05    44.01   44.01  ...  42.05  42.05  42.04  42.04  26933.0     NaN   \n",
       "3    44.25     44.0   44.25  ...  42.06  42.54  42.01  42.24  39292.0   65.33   \n",
       "4    44.32    44.22   44.27  ...  42.12  42.48  42.09  42.48   9683.0  65.115   \n",
       "5    44.46  44.2504   44.34  ...  42.49  42.49  42.18   42.2   7844.0     NaN   \n",
       "6    44.36    44.22   44.24  ...  42.28  42.38  42.23  42.38   6472.0   65.12   \n",
       "7    44.26     44.1   44.17  ...  42.42  42.47  42.42  42.47   1000.0   65.03   \n",
       "8    44.18    44.03   44.07  ...  42.43  42.51   42.4   42.4   5835.0  65.065   \n",
       "9  44.1301    44.06  44.065  ...  42.35  42.38  42.28  42.31  32358.0   65.12   \n",
       "\n",
       "   ZTS.1   ZTS.2   ZTS.3    ZTS.4  \n",
       "0   high     low   close   volume  \n",
       "1    NaN     NaN     NaN      NaN  \n",
       "2    NaN     NaN     NaN      NaN  \n",
       "3  65.39   64.96   65.11  38144.0  \n",
       "4  65.23  65.075   65.12   4390.0  \n",
       "5    NaN     NaN     NaN      NaN  \n",
       "6  65.18   64.97   64.97   5515.0  \n",
       "7  65.14    65.0    65.0   2100.0  \n",
       "8  65.31  65.065  65.145   5200.0  \n",
       "9  65.12   64.95   65.05   2502.0  \n",
       "\n",
       "[10 rows x 2511 columns]"
      ]
     },
     "metadata": {},
     "output_type": "display_data"
    }
   ],
   "source": [
    "df = pd.DataFrame({'Series': [np.nan], 'Epsilon': [np.nan], 'Sd': [np.nan]}).dropna()\n",
    "def LoadData():\n",
    "    SP = pd.read_csv('^GSPC.csv')\n",
    "    Minute_data =  pd.read_csv('S&P minute data.csv')\n",
    "    return SP, Minute_data\n",
    "sp, minute_data = LoadData()\n",
    "display(minute_data.iloc[:10])\n"
   ]
  },
  {
   "cell_type": "markdown",
   "metadata": {},
   "source": [
    "# White noise "
   ]
  },
  {
   "cell_type": "code",
   "execution_count": 4,
   "metadata": {},
   "outputs": [],
   "source": [
    "def WhiteNoise(df,mean,sd):\n",
    "    n = 100\n",
    "    for i in range(n):\n",
    "        Xt = np.random.normal(mean,sd)\n",
    "        df = df.append({'Series': Xt}, ignore_index=True)\n",
    "    plt.scatter(np.linspace(1,n,n),df['Series'])\n",
    "    return"
   ]
  },
  {
   "cell_type": "markdown",
   "metadata": {},
   "source": [
    "# Qth-Order Moving Average:"
   ]
  },
  {
   "cell_type": "code",
   "execution_count": 5,
   "metadata": {},
   "outputs": [],
   "source": [
    "def QthMovAve(df,mean,sd,order):\n",
    "    weights = np.linspace(1,order,order)\n",
    "    weights = weights/np.sum(weights)\n",
    "    n = 1000\n",
    "    for i in range(n):\n",
    "        epsilon = np.random.normal(0,sd)\n",
    "        Xt = mean\n",
    "        if i != 0:\n",
    "            for j in range(np.minimum(i,order-1)):    \n",
    "                 Xt += weights[order-j-1]*df['Epsilon'].iloc[i-j-1]\n",
    "        df = df.append({'Series': Xt, 'Epsilon': epsilon}, ignore_index=True)\n",
    "    print(df)\n",
    "    plt.scatter(np.linspace(1,n,n),df['Series'])\n",
    "    return"
   ]
  },
  {
   "cell_type": "code",
   "execution_count": 6,
   "metadata": {},
   "outputs": [],
   "source": [
    "def SquaredErrorforCycleLength(A,length):\n",
    "    A = np.array(A)\n",
    "    var_list = np.zeros(length)\n",
    "    n = len(A)\n",
    "    for i in range(length):\n",
    "        k = 0\n",
    "        point_list = []\n",
    "        while k*length <= n-1:\n",
    "            point_list.append(A[k*length])\n",
    "            k += 1\n",
    "        var_list[i] = stat.variance(point_list)\n",
    "    return stat.mean(var_list)"
   ]
  },
  {
   "cell_type": "markdown",
   "metadata": {},
   "source": [
    "Thing that tries to find period of periodic function:"
   ]
  },
  {
   "cell_type": "code",
   "execution_count": 7,
   "metadata": {},
   "outputs": [],
   "source": [
    "def CycleLength(A):\n",
    "    A = np.array(A)\n",
    "    SquaredErrors = np.zeros(int(len(A)*2/3))\n",
    "    for length in range(1,int(len(A)*2/3)):\n",
    "        SquaredErrors[length] = SquaredErrorforCycleLength(A, length)\n",
    "    return SquaredErrors"
   ]
  },
  {
   "cell_type": "markdown",
   "metadata": {},
   "source": [
    "# Qth-Order Auto-regressive:"
   ]
  },
  {
   "cell_type": "code",
   "execution_count": 8,
   "metadata": {},
   "outputs": [],
   "source": [
    "def QthAR(df,sd,order):\n",
    "    weights = np.linspace(1,order,order)\n",
    "    weights = weights/np.sum(weights)\n",
    "    n = 100\n",
    "    for i in range(n):\n",
    "        epsilon = np.random.normal(0,sd)\n",
    "        Xt = epsilon\n",
    "        if i != 0:\n",
    "            for j in range(np.minimum(i,order)):\n",
    "                Xt += weights[order-j-1]*df['Series'].iloc[i-j-1]\n",
    "        df = df.append({'Series': Xt}, ignore_index=True)\n",
    "    plt.scatter(np.linspace(1,n,n),df['Series'])\n",
    "    return"
   ]
  },
  {
   "cell_type": "markdown",
   "metadata": {},
   "source": [
    "# Qth-order Auto-regressive conditional heteroskedasticity (ARCH):"
   ]
  },
  {
   "cell_type": "code",
   "execution_count": 9,
   "metadata": {},
   "outputs": [],
   "source": [
    "def QArch(df,a,order,n):\n",
    "    #Choosing the weights of the model (assuming weakly-stationary covariance)\n",
    "    weights = np.linspace(1,order,order)\n",
    "    weights = (200)**(weights/order)\n",
    "    weights = weights/np.sum(weights)\n",
    "    for i in range(n):\n",
    "        #This is that first term constant\n",
    "        sd = a\n",
    "        for j in range(np.minimum(i,order+1)):\n",
    "            #Summing the products of the weights and squares of previous datapoints\n",
    "            sd += weights[order-j-1]*df['Series'].iloc[i-j-1]*df['Series'].iloc[i-j-1]\n",
    "        #Generating next datapoint\n",
    "        Xt = np.random.normal(0,sd)\n",
    "        df = df.append({'Series': Xt, 'Sd': sd}, ignore_index=True)\n",
    "    #Just formatting\n",
    "    fig, (ax1, ax2) = plt.subplots(2, 1)\n",
    "    fig.suptitle('ARCH(%d)' % order)\n",
    "    lin = np.linspace(1,n,n)\n",
    "    ax1.bar(lin,df['Series'])\n",
    "    ax2.bar(lin,df['Sd'])\n",
    "    #Getting an approximating poly through it uses Gaussian quadrature,\n",
    "    #so it is going to be exact up to n/2. This is why I picked n/10.\n",
    "    #This is really just a randomly chosen number, but line looks 'eye-ball' representative for smoothness = 10 if n = 1000.\n",
    "    #EDIT: The smoothness of the line will be will change the scale that the red line represents, meaning the period of \n",
    "    #the line will be very clearly altered by this!!!\n",
    "    smoothness = 10\n",
    "    degree = int(np.ceil(n/smoothness))\n",
    "    xnew = np.linspace(1,n, n*10) \n",
    "    coefs = poly.polyfit(lin, df['Sd'], degree)\n",
    "    ffit = poly.polyval(xnew, coefs)\n",
    "    plt.plot(xnew, ffit, 'r')\n",
    "    # #More formatting\n",
    "    low = min(df['Sd'])\n",
    "    high = max(df['Sd'])\n",
    "    plt.ylim([low,high])\n",
    "    ax3 = ax2.twinx()\n",
    "    cycle_length = CycleLength(ffit[1::10])\n",
    "    \n",
    "    l = len(cycle_length)\n",
    "    ax3.plot(np.linspace(1,l,l),cycle_length)\n",
    "    #perform Fourier transform on graph (cutting of edges due to weird behaviour)\n",
    "    slicing = 50\n",
    "    ax3.plot(np.linspace(1+int(slicing/10),n-int(slicing/10),n*10-2*slicing),abs(fft(ffit[slicing:len(ffit)-slicing])))\n",
    "    plt.ylim([0,0.2])\n",
    "    fig.tight_layout()\n",
    "    plt.show()\n",
    "    \n",
    "    \n",
    "    return find_peaks(cycle_length, \\\n",
    "                      #threshold = (max(cycle_length)-min(cycle_length))/40),\\\n",
    "                      width = 10),\\\n",
    "           #ChangePlot(df['Series'])"
   ]
  },
  {
   "cell_type": "code",
   "execution_count": 21,
   "metadata": {},
   "outputs": [
    {
     "name": "stderr",
     "output_type": "stream",
     "text": [
      "C:\\Users\\Max J. de Bock\\Anaconda3\\lib\\site-packages\\numpy\\polynomial\\polyutils.py:706: RuntimeWarning: overflow encountered in square\n",
      "  scl = np.sqrt(np.square(lhs).sum(1))\n",
      "C:\\Users\\Max J. de Bock\\Anaconda3\\lib\\site-packages\\numpy\\core\\_methods.py:38: RuntimeWarning: overflow encountered in reduce\n",
      "  return umr_sum(a, axis, dtype, out, keepdims, initial, where)\n",
      "C:\\Users\\Max J. de Bock\\Anaconda3\\lib\\site-packages\\numpy\\polynomial\\polynomial.py:1336: RankWarning: The fit may be poorly conditioned\n",
      "  return pu._fit(polyvander, x, y, deg, rcond, full, w)\n"
     ]
    },
    {
     "data": {
      "image/png": "[encoded data removed]",
      "text/plain": [
       "<Figure size 432x288 with 3 Axes>"
      ]
     },
     "metadata": {
      "needs_background": "light"
     },
     "output_type": "display_data"
    },
    {
     "data": {
      "text/plain": [
       "((array([177, 222, 296, 354, 444, 500, 573], dtype=int64),\n",
       "  {'prominences': array([7.52172044e-05, 6.59794478e-05, 8.37638019e-05, 1.05078984e-04,\n",
       "          1.87011125e-04, 2.70794350e-05, 1.41545112e-05]),\n",
       "   'left_bases': array([  0, 195,   0,   0,   0, 498, 530], dtype=int64),\n",
       "   'right_bases': array([195, 249, 332, 388, 630, 630, 630], dtype=int64),\n",
       "   'widths': array([10.79546442, 13.01479711, 14.25246872, 34.33116788, 31.39476385,\n",
       "          14.06177665, 38.31142862]),\n",
       "   'width_heights': array([7.29203875e-05, 7.68872153e-05, 1.23441933e-04, 1.16034135e-04,\n",
       "          1.25531160e-04, 6.08059957e-05, 6.16658742e-05]),\n",
       "   'left_ips': array([171.11186135, 214.23230197, 288.38474758, 333.77432475,\n",
       "          424.2958879 , 498.96757192, 552.16327891]),\n",
       "   'right_ips': array([181.90732577, 227.24709907, 302.63721631, 368.10549263,\n",
       "          455.69065175, 513.02934857, 590.47470753])}),)"
      ]
     },
     "execution_count": 21,
     "metadata": {},
     "output_type": "execute_result"
    }
   ],
   "source": [
    "#To get decent compromise between data and run-time I went for QArch(df,0.1,20,1000)\n",
    "QArch(df,0.1,20,1000)"
   ]
  },
  {
   "cell_type": "markdown",
   "metadata": {},
   "source": [
    "# Daily-changes hist, fitting Gauss distr and JB-test:"
   ]
  },
  {
   "cell_type": "code",
   "execution_count": 301,
   "metadata": {},
   "outputs": [],
   "source": [
    "def BarReturnsPlot(A):\n",
    "    rol = 20\n",
    "    if len(A.shape) == 2:\n",
    "        Returns = A['Close']-A['Open']\n",
    "    else:\n",
    "        Returns = A    \n",
    "    fig, (ax1, ax2) = plt.subplots(2, 1)\n",
    "    l = len(Returns)\n",
    "    lin = np.linspace(1,l,l)\n",
    "    \n",
    "    var = (Returns.rolling(rol).std(ddof=0))**2\n",
    "    \n",
    "    ax1.bar(lin,Returns)\n",
    "    ax2.bar(lin,var)\n",
    "\n",
    "    smoothness = 30\n",
    "    degree = int(np.ceil(l/smoothness))\n",
    "    xnew = np.linspace(1,l, l*smoothness) \n",
    "    coefs = poly.polyfit(lin[rol:], var[rol:], degree)\n",
    "    ffit = poly.polyval(xnew, coefs)\n",
    "    plt.plot(xnew, ffit, 'r')\n",
    "    # #More formatting\n",
    "    low = min(var[rol:])\n",
    "    high = max(var[rol:])\n",
    "    plt.ylim([low,high])\n",
    "    \n",
    "    plt.bar(lin,Returns)\n",
    "    \n",
    "    plt.bar(lin,var)\n",
    "    plt.show()\n",
    "    return var,jarque_bera(Returns)\n",
    "    "
   ]
  },
  {
   "cell_type": "code",
   "execution_count": 2,
   "metadata": {},
   "outputs": [
    {
     "name": "stdout",
     "output_type": "stream",
     "text": [
      "[0, 2, 4, 6, 8, 10]\n"
     ]
    }
   ],
   "source": [
    "a = [0,1,2,3,4,5,6,7,8,9,10]\n",
    "print(a[::2])"
   ]
  },
  {
   "cell_type": "code",
   "execution_count": 216,
   "metadata": {},
   "outputs": [
    {
     "name": "stderr",
     "output_type": "stream",
     "text": [
      "C:\\Users\\Max J. de Bock\\Anaconda3\\lib\\site-packages\\numpy\\polynomial\\polyutils.py:706: RuntimeWarning: overflow encountered in square\n",
      "  scl = np.sqrt(np.square(lhs).sum(1))\n",
      "C:\\Users\\Max J. de Bock\\Anaconda3\\lib\\site-packages\\numpy\\core\\_methods.py:38: RuntimeWarning: overflow encountered in reduce\n",
      "  return umr_sum(a, axis, dtype, out, keepdims, initial, where)\n",
      "C:\\Users\\Max J. de Bock\\Anaconda3\\lib\\site-packages\\numpy\\polynomial\\polynomial.py:1336: RankWarning: The fit may be poorly conditioned\n",
      "  return pu._fit(polyvander, x, y, deg, rcond, full, w)\n"
     ]
    },
    {
     "data": {
      "image/png": "[encoded data removed]",
      "text/plain": [
       "<Figure size 432x288 with 2 Axes>"
      ]
     },
     "metadata": {
      "needs_background": "light"
     },
     "output_type": "display_data"
    },
    {
     "data": {
      "image/png": "[encoded data removed]",
      "text/plain": [
       "<Figure size 432x288 with 1 Axes>"
      ]
     },
     "execution_count": 216,
     "metadata": {},
     "output_type": "execute_result"
    },
    {
     "data": {
      "image/png": "[encoded data removed]",
      "text/plain": [
       "<Figure size 432x288 with 1 Axes>"
      ]
     },
     "metadata": {
      "needs_background": "light"
     },
     "output_type": "display_data"
    }
   ],
   "source": [
    "var, jb =BarReturnsPlot(sp)\n",
    "plot_acf(var[20:].dropna(), lags=1000,alpha=0.05,marker=None)"
   ]
  },
  {
   "cell_type": "markdown",
   "metadata": {},
   "source": [
    "# Distributions of different interval measurements"
   ]
  },
  {
   "cell_type": "code",
   "execution_count": 217,
   "metadata": {},
   "outputs": [],
   "source": [
    "def ReturnsDistr(A,every_nth_day,bar_plot=None):\n",
    "    A = A.replace([np.inf, -np.inf], np.nan).dropna(axis=0,subset=['Open', 'Close'])\n",
    "    returns = A['Close'][every_nth_day-1::every_nth_day].reset_index(drop=True)-A['Open'][0:-1:every_nth_day].reset_index(drop=True)\n",
    "    returns = returns.replace([np.inf, -np.inf], np.nan).dropna(axis=0)    \n",
    "    if bar_plot != None:\n",
    "        if every_nth_day in bar_plot:\n",
    "            plt.hist(returns, bins=200, density = True,color='black')\n",
    "            plt.xlim([-1,1])\n",
    "            x = np.linspace(-1, 1, 100)\n",
    "            returns = returns.replace([np.inf, -np.inf], np.nan).dropna(axis=0)\n",
    "            mu = np.mean(returns) \n",
    "            std = np.std(returns)\n",
    "            p = norm.pdf(x, mu, std)\n",
    "            plt.plot(x, p, 'k', linewidth=2,color='red')\n",
    "            plt.show()\n",
    "    \n",
    "    return returns,jarque_bera(returns), sc.stats.kurtosis(returns, fisher=False)"
   ]
  },
  {
   "cell_type": "markdown",
   "metadata": {},
   "source": [
    "Here we're using minute data:"
   ]
  },
  {
   "cell_type": "code",
   "execution_count": 225,
   "metadata": {},
   "outputs": [
    {
     "name": "stderr",
     "output_type": "stream",
     "text": [
      "C:\\Users\\Max J. de Bock\\Anaconda3\\lib\\site-packages\\numpy\\core\\fromnumeric.py:3335: RuntimeWarning: Mean of empty slice.\n",
      "  out=out, **kwargs)\n",
      "C:\\Users\\Max J. de Bock\\Anaconda3\\lib\\site-packages\\numpy\\core\\_methods.py:161: RuntimeWarning: invalid value encountered in double_scalars\n",
      "  ret = ret.dtype.type(ret / rcount)\n"
     ]
    },
    {
     "data": {
      "image/png": "[encoded data removed]",
      "text/plain": [
       "<Figure size 432x288 with 1 Axes>"
      ]
     },
     "metadata": {
      "needs_background": "light"
     },
     "output_type": "display_data"
    },
    {
     "data": {
      "image/png": "[encoded data removed]",
      "text/plain": [
       "<Figure size 432x288 with 1 Axes>"
      ]
     },
     "metadata": {
      "needs_background": "light"
     },
     "output_type": "display_data"
    }
   ],
   "source": [
    "n = 421\n",
    "m = 100\n",
    "ticker = 'PWR'\n",
    "stock = ticker +'.3'\n",
    "p_val = np.zeros((n,2))\n",
    "k_val = np.zeros(n)\n",
    "lin = np.linspace(1,n,n)\n",
    "\n",
    "Open = minute_data[ticker].iloc[3:]\n",
    "Close = minute_data[stock].iloc[3:]\n",
    "\n",
    "for i in range(3,len(Open)):\n",
    "    Close.iloc[i-3] = pd.to_numeric(minute_data[stock].iloc[i])\n",
    "    Open.iloc[i-3] = pd.to_numeric(minute_data[ticker].iloc[i])\n",
    "open_close = pd.concat([Open,Close],axis=1).rename(columns={stock: \"Close\", ticker: \"Open\"})\n",
    "\n",
    "\n",
    "for i in range(1,n):\n",
    "    #Tak into account amount of datapoints! i*x, where x is amount of datapoints per QQ\n",
    "    l = len(open_close.replace([np.inf, -np.inf], np.nan).dropna(axis=0,subset=['Open', 'Close']))\n",
    "    j = 1\n",
    "    p_val_list = list()\n",
    "    k_val_list = list()\n",
    "    while m*i*j < l:\n",
    "        ret,p, k = ReturnsDistr(open_close[m*i*(j-1):m*i*j],i,bar_plot=[-1])\n",
    "        p_val_list.append(p[1])\n",
    "        k_val_list.append(k)\n",
    "        j += 1\n",
    "    p_val[i] = np.mean(p_val_list)\n",
    "    k_val[i] = np.mean(k_val_list)\n",
    "    if i in [-1]:\n",
    "        qqplot(ret[1:], line='s',ms=3,color='black')\n",
    "        #plt.title = str(i)+' minute changes'\n",
    "        plt.show()\n",
    "limit = 400\n",
    "plt.scatter(lin[:limit],p_val[:limit,0],s=3,color='black')\n",
    "#coefs = poly.polyfit(lin[:limit], p_val[:limit,0], deg=1)\n",
    "#ffit = poly.polyval(lin[:limit], coefs)\n",
    "#plt.plot(lin[:limit], ffit,label='Normal kurtosis = 3,'r')\n",
    "plt.title('p-value, JB-test over n-minute returns: Quanta Services')\n",
    "plt.show()\n",
    "plt.scatter(lin[:limit],k_val[:limit],s=3,color='black')\n",
    "plt.plot(lin[:limit], np.ones(limit)*3,label='Pearson normal kurtosis = 3',color='r')\n",
    "plt.title('Pearson kurtosis over n-minute returns: Quanta Services')\n",
    "plt.show()"
   ]
  },
  {
   "cell_type": "markdown",
   "metadata": {},
   "source": [
    "Here S&P 500 data is used:"
   ]
  },
  {
   "cell_type": "code",
   "execution_count": 62,
   "metadata": {},
   "outputs": [
    {
     "data": {
      "image/png": "[encoded data removed]",
      "text/plain": [
       "<Figure size 432x288 with 1 Axes>"
      ]
     },
     "metadata": {
      "needs_background": "light"
     },
     "output_type": "display_data"
    }
   ],
   "source": [
    "#Adjust size op your data to compare the effect of length of time periods, \n",
    "#i.e. JB from ReturnsDistr(sp[0:100],1) and ReturnsDistr(sp[0:1000],10) are comparable \n",
    "ret,jb=ReturnsDistr(sp[0:1500],150)\n",
    "plotty = qqplot(ret,line='s')"
   ]
  },
  {
   "cell_type": "markdown",
   "metadata": {},
   "source": [
    "# Realized volatility "
   ]
  },
  {
   "cell_type": "code",
   "execution_count": 230,
   "metadata": {},
   "outputs": [],
   "source": [
    "def DayRealVol(df,n,ticker, grouped):\n",
    "    if grouped == False:\n",
    "        dated = df[3:].reset_index(drop=True)\n",
    "        for i,elt in enumerate(dated['Unnamed: 0']):\n",
    "            dated['Unnamed: 0'].iloc[i] = datetime.strptime(elt, '%Y-%m-%d %H:%M:%S')\n",
    "        dated = dated.set_index('Unnamed: 0')\n",
    "        DFList = [group[1] for group in dated.groupby(dated.index.date)]\n",
    "        md = DFList[n]\n",
    "    if grouped == True:\n",
    "        md = df[n]\n",
    "    string = ticker + '.3'\n",
    "    md = md[string]\n",
    "    #Processing data\n",
    "    md = md.dropna().reset_index(drop=True).iloc[1:]\n",
    "    for i in range(len(md)):\n",
    "        md.iloc[i] = pd.to_numeric(md.iloc[i])\n",
    "    returns = md.shift(-1).iloc[:-1]/md.iloc[:-1]\n",
    "    #for i, elt in enumerate(returns):\n",
    "    #    returns.iloc[i] = elt\n",
    "    #Start those calculationssss\n",
    "    RealVol = 0\n",
    "    for elt in returns:\n",
    "        RealVol += m.log(elt)**2\n",
    "    return RealVol"
   ]
  },
  {
   "cell_type": "markdown",
   "metadata": {},
   "source": [
    "This thing will save you a LOT of time (~10 minutes --> ~2 seconds) by grouping by day in advance (instead of with every iteration), ONLY thing you should do it press run for this part (assuming you've already clicked download of the minute_data in the second box of this notebook):"
   ]
  },
  {
   "cell_type": "code",
   "execution_count": 231,
   "metadata": {},
   "outputs": [
    {
     "name": "stdout",
     "output_type": "stream",
     "text": [
      "Grouped!\n"
     ]
    }
   ],
   "source": [
    "lin = np.linspace(1,113,113)\n",
    "DRV = np.zeros(113)\n",
    "df = minute_data\n",
    "dated = df[3:].reset_index(drop=True)\n",
    "for i,elt in enumerate(dated['Unnamed: 0']):\n",
    "    dated['Unnamed: 0'].iloc[i] = datetime.strptime(elt, '%Y-%m-%d %H:%M:%S')\n",
    "dated = dated.set_index('Unnamed: 0')\n",
    "DFList = [group[1] for group in dated.groupby(dated.index.date)]\n",
    "print('Grouped!')"
   ]
  },
  {
   "cell_type": "markdown",
   "metadata": {},
   "source": [
    "If you have used the previous grouping function (you're gonna be happy now), because you can simple insert DFList and put True for the 'grouped' variable. If you haven't insert minute_data instead and set 'grouped' to False"
   ]
  },
  {
   "cell_type": "code",
   "execution_count": 243,
   "metadata": {},
   "outputs": [
    {
     "data": {
      "image/png": "[encoded data removed]",
      "text/plain": [
       "<Figure size 432x288 with 1 Axes>"
      ]
     },
     "metadata": {
      "needs_background": "light"
     },
     "output_type": "display_data"
    },
    {
     "data": {
      "image/png": "[encoded data removed]",
      "text/plain": [
       "<Figure size 432x288 with 1 Axes>"
      ]
     },
     "metadata": {
      "needs_background": "light"
     },
     "output_type": "display_data"
    }
   ],
   "source": [
    "for i, elt in enumerate(lin):\n",
    "    DRV[i] = DayRealVol(DFList,i,'PWR',True)*365\n",
    "plt.plot(lin,DRV)\n",
    "graphy = plot_acf(DRV, lags=100, alpha=0.05,marker=None, title = 'ACF of daily realized volatility: Quanta Services')"
   ]
  },
  {
   "cell_type": "markdown",
   "metadata": {},
   "source": [
    "This is really cool, when looking at autocorrelation of liquid stock (e.g AAPL, MSFT, etc.) it is veryyy well within the 95% bounds, but when looking at less wel analysed stocks, the autocorrelation often exceeds these bounds! (days mainly consist of 390 minutes, the peaks that sometimes appear at multiples of these values are the correlation between daily 'overnight price changes'. Perhaps this can be explained by the fact that this is data from a bull-market? Also notice that the auto-correlation throughout all the data is positive. Which suggests positive terms for the ARCH model (as expected).\n",
    "When splitting S&P 500 into 3 groups; large, mid and small, we get interesting results. \n",
    "\n",
    "-Small: Almost all of the auto-correlation can be found in the the last hour worth of data, lags<=60. I believe that due to lower liquidity i.e. lower trading frequency and lower market efficiency, it takes more time to adjust to the 'starting price of the day'.\n",
    "\n",
    "-Mid: There is extremely high auto-correlation throughout the entire day's worth of data, lags<=390. I believe this is because most investors assess these stocks with a lower frequency which give a more continuous daily movement.\n",
    "\n",
    "-Large: Auto-correlation is very low, but there is extreme auto-correlation inbetween 'overnight price changes'. This is due to extremely high liquidity i.e. high trading frequency and high market efficiency in these assets. It therefore shouldn't take more than a minute for most trading systems to settle on a fair 'starting price of the day'."
   ]
  },
  {
   "cell_type": "code",
   "execution_count": 250,
   "metadata": {},
   "outputs": [
    {
     "data": {
      "image/png": "[encoded data removed]",
      "text/plain": [
       "<Figure size 432x288 with 1 Axes>"
      ]
     },
     "metadata": {
      "needs_background": "light"
     },
     "output_type": "display_data"
    }
   ],
   "source": [
    "md = minute_data['AAPL.3'].iloc[3:]\n",
    "for i in range(len(md)):\n",
    "        md.iloc[i] = pd.to_numeric(md.iloc[i])\n",
    "returns = md.shift(-1).iloc[:-1]/md.iloc[:-1]\n",
    "MRV = np.zeros(len(returns))\n",
    "for i, elt in enumerate(returns):\n",
    "    MRV[i] = 390*m.log(elt)**2\n",
    "MRV = MRV[np.logical_not(np.isnan(MRV))]\n",
    "#Setting it equal due to a little problem in the function itself, it doesn't mean anything\n",
    "graphy = plot_acf(MRV, zero= False,alpha=0.05, lags = 800,marker=None, title = 'ACF of minute realized volatility: Apple')"
   ]
  },
  {
   "cell_type": "markdown",
   "metadata": {},
   "source": [
    "Daily ACF plot of this high-frequency data:"
   ]
  }
 ],
 "metadata": {
  "kernelspec": {
   "display_name": "Python 3",
   "language": "python",
   "name": "python3"
  },
  "language_info": {
   "codemirror_mode": {
    "name": "ipython",
    "version": 3
   },
   "file_extension": ".py",
   "mimetype": "text/x-python",
   "name": "python",
   "nbconvert_exporter": "python",
   "pygments_lexer": "ipython3",
   "version": "3.7.4"
  }
 },
 "nbformat": 4,
 "nbformat_minor": 4
}
